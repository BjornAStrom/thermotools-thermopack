{
 "cells": [
  {
   "cell_type": "code",
   "execution_count": 4,
   "id": "1586cfb7-28d4-43a6-b4e4-e449c53cbcbb",
   "metadata": {},
   "outputs": [],
   "source": [
    "import sys\n",
    "from pyctp.multiparameter import multiparam\n",
    "import matplotlib.pyplot as plt\n",
    "import numpy as np\n",
    "import seaborn as sns\n",
    "sys.path.append(\"..\")\n",
    "from pyctp_example_utils import calc_reduced_T, calc_reduced_rho, calc_reduced_P\n",
    "sns.set_context('talk')\n",
    "sns.set_palette('Dark2')\n",
    "sns.set_style('ticks')"
   ]
  },
  {
   "cell_type": "markdown",
   "id": "02825ee6-0ad7-4e8f-9165-9eea1b21203c",
   "metadata": {
    "tags": []
   },
   "source": [
    "# LJ and LJTS equation of state\n",
    "Equation of State for the Lennard-Jones Fluid. See https://doi.org/10.1063/1.4945000 and https://doi.org/10.1080/00268976.2016.1246760"
   ]
  },
  {
   "cell_type": "code",
   "execution_count": null,
   "id": "dc4139b0-9d35-4d44-8dfb-4f2fe4fe4e63",
   "metadata": {},
   "outputs": [],
   "source": [
    "lj = multiparam()\n",
    "lj.init(\"AR\", \"LJ_MEOS\")\n",
    "lj_param = {\"sigma\": 3.3952e-10, \"eps\": 116.79}\n",
    "lj.set_tmin(temp=5.0)\n",
    "#\n",
    "ljts = multiparam()\n",
    "ljts.init(\"AR\", \"LJTS_MEOS\")\n",
    "ljts_param = {\"sigma\": 3.3916e-10, \"eps\": 137.90}\n",
    "ljts.set_tmin(temp=5.0)"
   ]
  },
  {
   "cell_type": "code",
   "execution_count": 2,
   "id": "96f33b6b-3d59-4781-b6d6-c37483860431",
   "metadata": {},
   "outputs": [],
   "source": [
    "# Convert to reduced units\n",
    "def get_reduced_properties(T, P, v, param):\n",
    "    array_types = (np.ndarray, list)\n",
    "    if not isinstance(T, array_types):\n",
    "        T = np.array([T])\n",
    "    T_r = calc_reduced_T(T, param[\"eps\"])\n",
    "    if not isinstance(P, array_types):\n",
    "        P = np.array([P])\n",
    "    P_r = calc_reduced_P(P, param[\"eps\"], param[\"sigma\"])\n",
    "    if not isinstance(v, array_types):\n",
    "        v = np.array([v])\n",
    "    rho_r = calc_reduced_rho(1/v, param[\"sigma\"])\n",
    "    return T_r, rho_r, P_r"
   ]
  },
  {
   "cell_type": "markdown",
   "id": "350b95c0-72bc-46e0-b1d3-548e8078f4ec",
   "metadata": {},
   "source": [
    "## Plot phase envelope"
   ]
  },
  {
   "cell_type": "code",
   "execution_count": 3,
   "id": "ff0461c2-a8ed-47d5-9e35-75e7d11a6ee2",
   "metadata": {
    "tags": []
   },
   "outputs": [
    {
     "ename": "NameError",
     "evalue": "name 'np' is not defined",
     "output_type": "error",
     "traceback": [
      "\u001b[0;31m---------------------------------------------------------------------------\u001b[0m",
      "\u001b[0;31mNameError\u001b[0m                                 Traceback (most recent call last)",
      "\u001b[0;32m/tmp/ipykernel_26624/4181797907.py\u001b[0m in \u001b[0;36m<module>\u001b[0;34m\u001b[0m\n\u001b[0;32m----> 1\u001b[0;31m \u001b[0mz\u001b[0m \u001b[0;34m=\u001b[0m \u001b[0mnp\u001b[0m\u001b[0;34m.\u001b[0m\u001b[0marray\u001b[0m\u001b[0;34m(\u001b[0m\u001b[0;34m[\u001b[0m\u001b[0;36m1.0\u001b[0m\u001b[0;34m]\u001b[0m\u001b[0;34m)\u001b[0m\u001b[0;34m\u001b[0m\u001b[0;34m\u001b[0m\u001b[0m\n\u001b[0m\u001b[1;32m      2\u001b[0m \u001b[0mT_lj\u001b[0m\u001b[0;34m,\u001b[0m \u001b[0mP_lj\u001b[0m\u001b[0;34m,\u001b[0m \u001b[0mv_lj\u001b[0m \u001b[0;34m=\u001b[0m \u001b[0mlj\u001b[0m\u001b[0;34m.\u001b[0m\u001b[0mget_envelope_twophase\u001b[0m\u001b[0;34m(\u001b[0m\u001b[0;36m5.0e3\u001b[0m\u001b[0;34m,\u001b[0m \u001b[0mz\u001b[0m\u001b[0;34m,\u001b[0m \u001b[0mmaximum_pressure\u001b[0m\u001b[0;34m=\u001b[0m\u001b[0;36m2.0e6\u001b[0m\u001b[0;34m,\u001b[0m \u001b[0mcalc_v\u001b[0m\u001b[0;34m=\u001b[0m\u001b[0;32mTrue\u001b[0m\u001b[0;34m)\u001b[0m\u001b[0;34m\u001b[0m\u001b[0;34m\u001b[0m\u001b[0m\n\u001b[1;32m      3\u001b[0m \u001b[0mT_lj_r\u001b[0m\u001b[0;34m,\u001b[0m \u001b[0mrho_lj_r\u001b[0m\u001b[0;34m,\u001b[0m \u001b[0mP_lj_r\u001b[0m \u001b[0;34m=\u001b[0m \u001b[0mget_reduced_properties\u001b[0m\u001b[0;34m(\u001b[0m\u001b[0mT_lj\u001b[0m\u001b[0;34m,\u001b[0m \u001b[0mP_lj\u001b[0m\u001b[0;34m,\u001b[0m \u001b[0mv_lj\u001b[0m\u001b[0;34m,\u001b[0m \u001b[0mlj_param\u001b[0m\u001b[0;34m)\u001b[0m\u001b[0;34m\u001b[0m\u001b[0;34m\u001b[0m\u001b[0m\n\u001b[1;32m      4\u001b[0m \u001b[0mTc_lj\u001b[0m\u001b[0;34m,\u001b[0m \u001b[0mvc_lj\u001b[0m\u001b[0;34m,\u001b[0m \u001b[0mPc_lj\u001b[0m \u001b[0;34m=\u001b[0m \u001b[0mlj\u001b[0m\u001b[0;34m.\u001b[0m\u001b[0mcritical\u001b[0m\u001b[0;34m(\u001b[0m\u001b[0mz\u001b[0m\u001b[0;34m)\u001b[0m\u001b[0;34m\u001b[0m\u001b[0;34m\u001b[0m\u001b[0m\n\u001b[1;32m      5\u001b[0m \u001b[0mTc_lj_r\u001b[0m\u001b[0;34m,\u001b[0m \u001b[0mrhoc_lj_r\u001b[0m\u001b[0;34m,\u001b[0m \u001b[0mPc_lj_r\u001b[0m \u001b[0;34m=\u001b[0m \u001b[0mget_reduced_properties\u001b[0m\u001b[0;34m(\u001b[0m\u001b[0mTc_lj\u001b[0m\u001b[0;34m,\u001b[0m \u001b[0mPc_lj\u001b[0m\u001b[0;34m,\u001b[0m \u001b[0mvc_lj\u001b[0m\u001b[0;34m,\u001b[0m \u001b[0mlj_param\u001b[0m\u001b[0;34m)\u001b[0m\u001b[0;34m\u001b[0m\u001b[0;34m\u001b[0m\u001b[0m\n",
      "\u001b[0;31mNameError\u001b[0m: name 'np' is not defined"
     ]
    }
   ],
   "source": [
    "z = np.array([1.0])\n",
    "T_lj, P_lj, v_lj = lj.get_envelope_twophase(5.0e3, z, maximum_pressure=2.0e6, calc_v=True)\n",
    "T_lj_r, rho_lj_r, P_lj_r = get_reduced_properties(T_lj, P_lj, v_lj, lj_param)\n",
    "Tc_lj, vc_lj, Pc_lj = lj.critical(z)\n",
    "Tc_lj_r, rhoc_lj_r, Pc_lj_r = get_reduced_properties(Tc_lj, Pc_lj, vc_lj, lj_param)\n",
    "plt.plot(rho_lj_r, T_lj_r, \"b\", label=\"LJ\")\n",
    "plt.plot(rhoc_lj_r, Tc_lj_r, \"bo\")\n",
    "#\n",
    "T_ljts, P_ljts, v_ljts = ljts.get_envelope_twophase(5.0e3, z, maximum_pressure=2.0e6, calc_v=True)\n",
    "T_ljts_r, rho_ljts_r, P_ljts_r = get_reduced_properties(T_ljts, P_ljts, v_ljts, ljts_param)\n",
    "Tc_ljts, vc_ljts, Pc_ljts = ljts.critical(z)\n",
    "Tc_ljts_r, rhoc_ljts_r, Pc_ljts_r = get_reduced_properties(Tc_ljts, Pc_ljts, vc_ljts, ljts_param)\n",
    "plt.plot(rho_ljts_r, T_ljts_r, \"g\", label=\"LJTS\")\n",
    "plt.plot(rhoc_ljts_r, Tc_ljts_r, \"go\")\n",
    "#\n",
    "plt.xlabel(r\"$\\rho^*$\")\n",
    "plt.ylabel(r\"$T^*$\")\n",
    "leg = plt.legend(loc=\"best\")\n",
    "plt.tight_layout()\n",
    "plt.show()"
   ]
  },
  {
   "cell_type": "code",
   "execution_count": null,
   "id": "ed8efe9c-aff7-460f-9cd0-7b0453f05d35",
   "metadata": {},
   "outputs": [
    {
     "ename": "NameError",
     "evalue": "name 'plt' is not defined",
     "output_type": "error",
     "traceback": [
      "\u001b[0;31m---------------------------------------------------------------------------\u001b[0m",
      "\u001b[0;31mNameError\u001b[0m                                 Traceback (most recent call last)",
      "\u001b[0;32m/tmp/ipykernel_26624/3142984921.py\u001b[0m in \u001b[0;36m<module>\u001b[0;34m\u001b[0m\n\u001b[0;32m----> 1\u001b[0;31m \u001b[0mplt\u001b[0m\u001b[0;34m.\u001b[0m\u001b[0mplot\u001b[0m\u001b[0;34m(\u001b[0m\u001b[0mT_lj_r\u001b[0m\u001b[0;34m,\u001b[0m \u001b[0mP_lj_r\u001b[0m\u001b[0;34m,\u001b[0m \u001b[0;34m\"b\"\u001b[0m\u001b[0;34m,\u001b[0m \u001b[0mlabel\u001b[0m\u001b[0;34m=\u001b[0m\u001b[0;34m\"LJ\"\u001b[0m\u001b[0;34m)\u001b[0m\u001b[0;34m\u001b[0m\u001b[0;34m\u001b[0m\u001b[0m\n\u001b[0m\u001b[1;32m      2\u001b[0m \u001b[0mplt\u001b[0m\u001b[0;34m.\u001b[0m\u001b[0mplot\u001b[0m\u001b[0;34m(\u001b[0m\u001b[0mTc_lj_r\u001b[0m\u001b[0;34m,\u001b[0m \u001b[0mPc_lj_r\u001b[0m\u001b[0;34m,\u001b[0m \u001b[0;34m\"bo\"\u001b[0m\u001b[0;34m)\u001b[0m\u001b[0;34m\u001b[0m\u001b[0;34m\u001b[0m\u001b[0m\n\u001b[1;32m      3\u001b[0m \u001b[0;31m#\u001b[0m\u001b[0;34m\u001b[0m\u001b[0;34m\u001b[0m\u001b[0m\n\u001b[1;32m      4\u001b[0m \u001b[0mplt\u001b[0m\u001b[0;34m.\u001b[0m\u001b[0mplot\u001b[0m\u001b[0;34m(\u001b[0m\u001b[0mT_ljts_r\u001b[0m\u001b[0;34m,\u001b[0m \u001b[0mP_ljts_r\u001b[0m\u001b[0;34m,\u001b[0m \u001b[0;34m\"g\"\u001b[0m\u001b[0;34m,\u001b[0m \u001b[0mlabel\u001b[0m\u001b[0;34m=\u001b[0m\u001b[0;34m\"LJTS\"\u001b[0m\u001b[0;34m)\u001b[0m\u001b[0;34m\u001b[0m\u001b[0;34m\u001b[0m\u001b[0m\n\u001b[1;32m      5\u001b[0m \u001b[0mplt\u001b[0m\u001b[0;34m.\u001b[0m\u001b[0mplot\u001b[0m\u001b[0;34m(\u001b[0m\u001b[0mTc_ljts_r\u001b[0m\u001b[0;34m,\u001b[0m \u001b[0mPc_ljts_r\u001b[0m\u001b[0;34m,\u001b[0m \u001b[0;34m\"go\"\u001b[0m\u001b[0;34m)\u001b[0m\u001b[0;34m\u001b[0m\u001b[0;34m\u001b[0m\u001b[0m\n",
      "\u001b[0;31mNameError\u001b[0m: name 'plt' is not defined"
     ]
    }
   ],
   "source": [
    "plt.plot(T_lj_r, P_lj_r, \"b\", label=\"LJ\")\n",
    "plt.plot(Tc_lj_r, Pc_lj_r, \"bo\")\n",
    "#\n",
    "plt.plot(T_ljts_r, P_ljts_r, \"g\", label=\"LJTS\")\n",
    "plt.plot(Tc_ljts_r, Pc_ljts_r, \"go\")\n",
    "#\n",
    "plt.xlabel(r\"$T^*$\")\n",
    "plt.ylabel(r\"$P^*$\")\n",
    "leg = plt.legend(loc=\"best\")\n",
    "plt.tight_layout()\n",
    "plt.show()"
   ]
  }
 ],
 "metadata": {
  "kernelspec": {
   "display_name": "Python 3 (ipykernel)",
   "language": "python",
   "name": "python3"
  },
  "language_info": {
   "codemirror_mode": {
    "name": "ipython",
    "version": 3
   },
   "file_extension": ".py",
   "mimetype": "text/x-python",
   "name": "python",
   "nbconvert_exporter": "python",
   "pygments_lexer": "ipython3",
   "version": "3.10.4"
  }
 },
 "nbformat": 4,
 "nbformat_minor": 5
}
